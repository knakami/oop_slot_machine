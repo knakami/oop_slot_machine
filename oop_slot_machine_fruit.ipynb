{
 "cells": [
  {
   "cell_type": "code",
   "execution_count": 1,
   "id": "9d390156-6fb4-4f42-ba37-75358619b4c7",
   "metadata": {},
   "outputs": [
    {
     "name": "stdin",
     "output_type": "stream",
     "text": [
      "What would you like to deposit? $ 50\n"
     ]
    },
    {
     "name": "stdout",
     "output_type": "stream",
     "text": [
      "Current balance is $50\n"
     ]
    },
    {
     "name": "stdin",
     "output_type": "stream",
     "text": [
      "Press enter to play (q to quit). \n",
      "Enter the number of lines to bet on (1-3)?  3\n",
      "What would you like to bet on each line? $ 3\n"
     ]
    },
    {
     "name": "stdout",
     "output_type": "stream",
     "text": [
      "You are betting $3 on 3 lines. Total bet is equal to: $9\n",
      "plum | plum | lime\n",
      "lime | lime | kiwi\n",
      "lime | lime | kiwi\n",
      "You won $0.\n",
      "Current balance is $41\n"
     ]
    },
    {
     "name": "stdin",
     "output_type": "stream",
     "text": [
      "Press enter to play (q to quit). \n",
      "Enter the number of lines to bet on (1-3)?  3\n",
      "What would you like to bet on each line? $ 2\n"
     ]
    },
    {
     "name": "stdout",
     "output_type": "stream",
     "text": [
      "You are betting $2 on 3 lines. Total bet is equal to: $6\n",
      "lime | lime | kiwi\n",
      "kiwi | kiwi | lime\n",
      "pear | kiwi | pear\n",
      "You won $0.\n",
      "Current balance is $35\n"
     ]
    },
    {
     "name": "stdin",
     "output_type": "stream",
     "text": [
      "Press enter to play (q to quit). \n",
      "Enter the number of lines to bet on (1-3)?  3\n",
      "What would you like to bet on each line? $ 2\n"
     ]
    },
    {
     "name": "stdout",
     "output_type": "stream",
     "text": [
      "You are betting $2 on 3 lines. Total bet is equal to: $6\n",
      "pear | lime | kiwi\n",
      "lime | kiwi | lime\n",
      "kiwi | lime | pear\n",
      "You won $0.\n",
      "Current balance is $29\n"
     ]
    },
    {
     "name": "stdin",
     "output_type": "stream",
     "text": [
      "Press enter to play (q to quit). \n",
      "Enter the number of lines to bet on (1-3)?  3\n",
      "What would you like to bet on each line? $ 2\n"
     ]
    },
    {
     "name": "stdout",
     "output_type": "stream",
     "text": [
      "You are betting $2 on 3 lines. Total bet is equal to: $6\n",
      "kiwi | plum | lime\n",
      "lime | lime | kiwi\n",
      "pear | pear | kiwi\n",
      "You won $0.\n",
      "Current balance is $23\n"
     ]
    },
    {
     "name": "stdin",
     "output_type": "stream",
     "text": [
      "Press enter to play (q to quit). \n",
      "Enter the number of lines to bet on (1-3)?  3\n",
      "What would you like to bet on each line? $ 1\n"
     ]
    },
    {
     "name": "stdout",
     "output_type": "stream",
     "text": [
      "You are betting $1 on 3 lines. Total bet is equal to: $3\n",
      "lime | lime | kiwi\n",
      "kiwi | pear | pear\n",
      "pear | lime | plum\n",
      "You won $0.\n",
      "Current balance is $20\n"
     ]
    },
    {
     "name": "stdin",
     "output_type": "stream",
     "text": [
      "Press enter to play (q to quit). 3\n",
      "Enter the number of lines to bet on (1-3)?  1\n",
      "What would you like to bet on each line? $ 3\n"
     ]
    },
    {
     "name": "stdout",
     "output_type": "stream",
     "text": [
      "You are betting $3 on 1 lines. Total bet is equal to: $3\n",
      "kiwi | lime | lime\n",
      "pear | lime | kiwi\n",
      "kiwi | lime | pear\n",
      "You won $0.\n",
      "Current balance is $17\n"
     ]
    },
    {
     "name": "stdin",
     "output_type": "stream",
     "text": [
      "Press enter to play (q to quit). \n",
      "Enter the number of lines to bet on (1-3)?  3\n",
      "What would you like to bet on each line? $ 1\n"
     ]
    },
    {
     "name": "stdout",
     "output_type": "stream",
     "text": [
      "You are betting $1 on 3 lines. Total bet is equal to: $3\n",
      "pear | kiwi | lime\n",
      "kiwi | pear | lime\n",
      "lime | kiwi | pear\n",
      "You won $0.\n",
      "Current balance is $14\n"
     ]
    },
    {
     "name": "stdin",
     "output_type": "stream",
     "text": [
      "Press enter to play (q to quit). \n",
      "Enter the number of lines to bet on (1-3)?  3\n",
      "What would you like to bet on each line? $ 1\n"
     ]
    },
    {
     "name": "stdout",
     "output_type": "stream",
     "text": [
      "You are betting $1 on 3 lines. Total bet is equal to: $3\n",
      "pear | plum | kiwi\n",
      "lime | kiwi | lime\n",
      "kiwi | lime | kiwi\n",
      "You won $0.\n",
      "Current balance is $11\n"
     ]
    },
    {
     "name": "stdin",
     "output_type": "stream",
     "text": [
      "Press enter to play (q to quit). \n",
      "Enter the number of lines to bet on (1-3)?  3\n",
      "What would you like to bet on each line? $ 1\n"
     ]
    },
    {
     "name": "stdout",
     "output_type": "stream",
     "text": [
      "You are betting $1 on 3 lines. Total bet is equal to: $3\n",
      "kiwi | pear | pear\n",
      "lime | lime | lime\n",
      "pear | lime | kiwi\n",
      "You won $2.\n",
      "You won on lines: 2\n",
      "Current balance is $10\n"
     ]
    },
    {
     "name": "stdin",
     "output_type": "stream",
     "text": [
      "Press enter to play (q to quit). \n",
      "Enter the number of lines to bet on (1-3)?  2\n",
      "What would you like to bet on each line? $ 5\n"
     ]
    },
    {
     "name": "stdout",
     "output_type": "stream",
     "text": [
      "You are betting $5 on 2 lines. Total bet is equal to: $10\n",
      "kiwi | plum | kiwi\n",
      "lime | lime | lime\n",
      "lime | kiwi | pear\n",
      "You won $10.\n",
      "You won on lines: 2\n",
      "Current balance is $10\n"
     ]
    },
    {
     "name": "stdin",
     "output_type": "stream",
     "text": [
      "Press enter to play (q to quit). \n",
      "Enter the number of lines to bet on (1-3)?  2\n",
      "What would you like to bet on each line? $ 5\n"
     ]
    },
    {
     "name": "stdout",
     "output_type": "stream",
     "text": [
      "You are betting $5 on 2 lines. Total bet is equal to: $10\n",
      "lime | pear | lime\n",
      "lime | lime | lime\n",
      "pear | kiwi | plum\n",
      "You won $10.\n",
      "You won on lines: 2\n",
      "Current balance is $10\n"
     ]
    },
    {
     "name": "stdin",
     "output_type": "stream",
     "text": [
      "Press enter to play (q to quit). \n",
      "Enter the number of lines to bet on (1-3)?  2\n",
      "What would you like to bet on each line? $ 5\n"
     ]
    },
    {
     "name": "stdout",
     "output_type": "stream",
     "text": [
      "You are betting $5 on 2 lines. Total bet is equal to: $10\n",
      "kiwi | lime | lime\n",
      "lime | kiwi | pear\n",
      "kiwi | lime | lime\n",
      "You won $0.\n",
      "Game over! You ran out of money.\n",
      "You left with $0\n"
     ]
    }
   ],
   "source": [
    "import random\n",
    "\n",
    "# Constants for the game\n",
    "MAX_LINES = 3\n",
    "MAX_BET = 100\n",
    "MIN_BET = 1\n",
    "\n",
    "ROWS = 3\n",
    "COLS = 3\n",
    "\n",
    "# Symbol configurations\n",
    "symbol_count = {\n",
    "    \"plum\": 2,\n",
    "    \"pear\": 4,\n",
    "    \"kiwi\": 6,\n",
    "    \"lime\": 8\n",
    "}\n",
    "\n",
    "symbol_value = {\n",
    "    \"plum\": 5,\n",
    "    \"pear\": 4,\n",
    "    \"kiwi\": 3,\n",
    "    \"lime\": 2\n",
    "}\n",
    "\n",
    "# Function to check winnings\n",
    "def check_winnings(columns, lines, bet, values):\n",
    "    winnings = 0\n",
    "    winning_lines = []\n",
    "\n",
    "    for line in range(lines):\n",
    "        symbol = columns[0][line]\n",
    "        \n",
    "        # Check if all symbols in the line are the same\n",
    "        for column in columns:\n",
    "            symbol_to_check = column[line]\n",
    "            if symbol != symbol_to_check:\n",
    "                break\n",
    "        else:\n",
    "            # If all symbols are the same, calculate winnings\n",
    "            winnings += values[symbol] * bet\n",
    "            winning_lines.append(line + 1)\n",
    "\n",
    "    return winnings, winning_lines\n",
    "\n",
    "# Function to get a spin of the slot machine\n",
    "def get_slot_machine_spin(rows, cols, symbols):\n",
    "    all_symbols = []\n",
    "    \n",
    "    # Create a list of all symbols based on their counts\n",
    "    for symbol, symbol_count in symbols.items():\n",
    "        for _ in range(symbol_count):\n",
    "            all_symbols.append(symbol)\n",
    "\n",
    "    columns = []\n",
    "\n",
    "    # Generate random columns with symbols\n",
    "    for _ in range(cols):\n",
    "        column = []\n",
    "        current_symbols = all_symbols[:]\n",
    "        \n",
    "        # Randomly select symbols for each row in the column\n",
    "        for _ in range(rows):\n",
    "            value = random.choice(current_symbols)\n",
    "            current_symbols.remove(value)\n",
    "            column.append(value)\n",
    "\n",
    "        columns.append(column)\n",
    "\n",
    "    return columns\n",
    "\n",
    "# Function to print the slot machine\n",
    "def print_slot_machine(columns):\n",
    "    for row in range(len(columns[0])):\n",
    "        for i, column in enumerate(columns):\n",
    "            if i != len(columns) - 1:\n",
    "                print(column[row], end=\" | \")\n",
    "            else:\n",
    "                print(column[row], end=\"\")\n",
    "        print()\n",
    "\n",
    "# Function to handle player deposit\n",
    "def deposit():\n",
    "    while True:\n",
    "        amount = input(\"What would you like to deposit? $\")\n",
    "        if amount.isdigit():\n",
    "            amount = int(amount)\n",
    "            if amount > 0:\n",
    "                break\n",
    "            else:\n",
    "                print(\"Amount must be greater than 0.\")\n",
    "        else:\n",
    "            print(\"Please enter a number.\")\n",
    "\n",
    "    return amount\n",
    "\n",
    "# Function to get the number of lines to bet on\n",
    "def get_number_of_lines():\n",
    "    while True:\n",
    "        lines = input(\n",
    "            f\"Enter the number of lines to bet on (1-{MAX_LINES})? \")\n",
    "        if lines.isdigit():\n",
    "            lines = int(lines)\n",
    "            if 1 <= lines <= MAX_LINES:\n",
    "                break\n",
    "            else:\n",
    "                print(\"Enter a valid number of lines.\")\n",
    "        else:\n",
    "            print(\"Please enter a number.\")\n",
    "\n",
    "    return lines\n",
    "\n",
    "# Function to get the bet amount\n",
    "def get_bet():\n",
    "    while True:\n",
    "        amount = input(\"What would you like to bet on each line? $\")\n",
    "        if amount.isdigit():\n",
    "            amount = int(amount)\n",
    "            if MIN_BET <= amount <= MAX_BET:\n",
    "                break\n",
    "            else:\n",
    "                print(f\"Amount must be between ${MIN_BET} - ${MAX_BET}.\")\n",
    "        else:\n",
    "            print(\"Please enter a number.\")\n",
    "\n",
    "    return amount\n",
    "\n",
    "# Function to perform a spin and update the balance\n",
    "def spin(balance):\n",
    "    lines = get_number_of_lines()\n",
    "    \n",
    "    while True:\n",
    "        bet = get_bet()\n",
    "        total_bet = bet * lines\n",
    "\n",
    "        if total_bet > balance:\n",
    "            print(\n",
    "                f\"You do not have enough to bet that amount, your current balance is: ${balance}\")\n",
    "        else:\n",
    "            break\n",
    "\n",
    "    print(\n",
    "        f\"You are betting ${bet} on {lines} lines. Total bet is equal to: ${total_bet}\")\n",
    "\n",
    "    slots = get_slot_machine_spin(ROWS, COLS, symbol_count)\n",
    "    print_slot_machine(slots)\n",
    "    \n",
    "    winnings, winning_lines = check_winnings(slots, lines, bet, symbol_value)\n",
    "    \n",
    "    print(f\"You won ${winnings}.\")\n",
    "    \n",
    "    if winnings > 0:\n",
    "        print(f\"You won on lines:\", *winning_lines)\n",
    "\n",
    "    return winnings - total_bet\n",
    "\n",
    "# Main game loop\n",
    "def main():\n",
    "    balance = deposit()\n",
    "    \n",
    "    while balance > 0:\n",
    "        print(f\"Current balance is ${balance}\")\n",
    "        answer = input(\"Press enter to play (q to quit).\")\n",
    "        \n",
    "        if answer == \"q\":\n",
    "            break\n",
    "        \n",
    "        balance_change = spin(balance)\n",
    "        balance += balance_change\n",
    "\n",
    "        if balance <= 0:\n",
    "            print(\"Game over! You ran out of money.\")\n",
    "            break\n",
    "\n",
    "    print(f\"You left with ${balance}\")\n",
    "\n",
    "# Run the game\n",
    "main()\n"
   ]
  },
  {
   "cell_type": "code",
   "execution_count": null,
   "id": "b8a63228-eaf3-4e55-a59c-f43012726b05",
   "metadata": {},
   "outputs": [],
   "source": []
  }
 ],
 "metadata": {
  "kernelspec": {
   "display_name": "Python 3 (ipykernel)",
   "language": "python",
   "name": "python3"
  },
  "language_info": {
   "codemirror_mode": {
    "name": "ipython",
    "version": 3
   },
   "file_extension": ".py",
   "mimetype": "text/x-python",
   "name": "python",
   "nbconvert_exporter": "python",
   "pygments_lexer": "ipython3",
   "version": "3.8.6"
  }
 },
 "nbformat": 4,
 "nbformat_minor": 5
}
